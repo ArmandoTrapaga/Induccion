{
 "cells": [
  {
   "cell_type": "markdown",
   "id": "427bb77e",
   "metadata": {},
   "source": [
    "# Introducción"
   ]
  },
  {
   "cell_type": "markdown",
   "id": "11203a6b",
   "metadata": {},
   "source": [
    "Hola mateo :smile: bienvenido al primer paso para tu inducción al proyecto de: **Micrroarray Data Access System**\n",
    ":horse: :fire: :horse: :fire: :horse:\n",
    "\n"
   ]
  },
  {
   "cell_type": "markdown",
   "id": "958f8c2f",
   "metadata": {},
   "source": [
    "Como sabes durante el entrenamiento desarrollaste las habilidades basicas de programacion para poder incorporarte a un proyecto sin problemas :sunglasses:. Entre los modulos del entrenamiento recordaras que tuvieron un ejercicio con la libreria para el manejo de dataframes: *pandas* :panda_face:. \n",
    "\n",
    "Pero como esperas es no fue mas que una embarradita de la libreria que incluso al día de hoy, Diego y yo aun estamos descrbriendo nuevas cosas :face_with_spiral_eyes: , y dado que el proyecto requiere que uno conozca lo suficiente la libreria para el uso adecuado de la herramienta y sobre todo de los datos que esta genera, un pequeño tutorial para recordar las cosas basicas te ayudara mucho para tu integracion al proyecto :carousel_horse:. "
   ]
  },
  {
   "cell_type": "markdown",
   "id": "98a7ced6",
   "metadata": {},
   "source": [
    "Para poder empezar primero necesitas instalar la libreria de pandas, pero como habras notado o notaras, si trabajas desde el servidor no tienes los permisos para poder instalar librerias :smile_cat:. En su lugar, puedes usar los ambientes de conda ya existentes como lo son *base* y *muDAS*; o por otro lado crear tu propio ambiente de la siguiente forma:\n",
    "\n",
    "```bash \n",
    "conda create induccion\n",
    "```\n",
    "Ya si quieres instalar librerias puedes buscar en google la libreria en conda, para poder conseguir este tipo de comandos:\n",
    "\n",
    "```bash\n",
    "conda install anaconda::pandas\n",
    "```\n",
    "\n",
    "No obstante de esta forma tendrias que instalr una por una todas las librerias que necesitas, que si bien si surge la necesidad en el momento no hay problema pero si quieres instalar muchas librerias de una sola vez te recomiendo usar un archivo *.yml*, como el que esta en el path `envs/induccion.yml`, con el siguiente formato:\n",
    "\n",
    "```\n",
    "name: Induccion\n",
    "channels:\n",
    "  - bioconda\n",
    "  - conda-forge\n",
    "dependencies:\n",
    "  - pandas=2.2.1=py39hddac248_0\n",
    "  - geoparse=2.0.3=pyhd8ed1ab_0\n",
    "  - numpy=1.26.4=py39h474f0d3_0\n",
    "  - entrez-direct=22.1=he881be0_0\n",
    "```\n",
    "\n",
    "Donde se detalla el nombre y los canales o los repositorios de donde se descargaran las dependencias.\n",
    "\n",
    "Finalmente si tienes el archivo solo tienes que correr este comando y buscar el nombre del ambiente en los kernels en la esquina superior derecha del jupyter\n",
    "```bash\n",
    "conda env create -f envs/induccion.yml\n",
    "```"
   ]
  },
  {
   "cell_type": "markdown",
   "id": "beefedce",
   "metadata": {},
   "source": [
    "# Atributos basicos"
   ]
  },
  {
   "cell_type": "code",
   "execution_count": 1,
   "id": "91a1bd63",
   "metadata": {},
   "outputs": [],
   "source": [
    "# Listo ya podemos empezar\n",
    "import pandas as pd"
   ]
  },
  {
   "cell_type": "code",
   "execution_count": 2,
   "id": "83b5b30d",
   "metadata": {},
   "outputs": [],
   "source": [
    "# Como recordaras podemos cargar archivos csv o tsv para crear un dataframe\n",
    "data = pd.read_csv(\"Data/Pokemon.csv\",index_col=0, na_values=[\" \"])"
   ]
  },
  {
   "cell_type": "code",
   "execution_count": 3,
   "id": "5dfd57d9",
   "metadata": {},
   "outputs": [
    {
     "name": "stdout",
     "output_type": "stream",
     "text": [
      "Este dataframe es sobre los pokemons y comprende estadisticas como:['Name', 'Form', 'Type1', 'Type2', 'Total', 'HP', 'Attack', 'Defense', 'Sp. Atk', 'Sp. Def', 'Speed', 'Generation']\n",
      "Con un total de 1215 pokemons\n",
      "Generando un dataframe de un tamaño: 14580\n"
     ]
    }
   ],
   "source": [
    "# Con un dataframe podemos ver sus columnas\n",
    "print(f\"Este dataframe es sobre los pokemons y comprende estadisticas como:{data.columns.to_list()}\")\n",
    "# o cuantas filas tiene\n",
    "print(f\"Con un total de {data.shape[0]} pokemons\")\n",
    "# o su tamaño total\n",
    "print(f\"Generando un dataframe de un tamaño: {data.size}\")"
   ]
  },
  {
   "cell_type": "code",
   "execution_count": 4,
   "id": "70417c53",
   "metadata": {},
   "outputs": [
    {
     "data": {
      "text/html": [
       "<div>\n",
       "<style scoped>\n",
       "    .dataframe tbody tr th:only-of-type {\n",
       "        vertical-align: middle;\n",
       "    }\n",
       "\n",
       "    .dataframe tbody tr th {\n",
       "        vertical-align: top;\n",
       "    }\n",
       "\n",
       "    .dataframe thead th {\n",
       "        text-align: right;\n",
       "    }\n",
       "</style>\n",
       "<table border=\"1\" class=\"dataframe\">\n",
       "  <thead>\n",
       "    <tr style=\"text-align: right;\">\n",
       "      <th></th>\n",
       "      <th>Name</th>\n",
       "      <th>Form</th>\n",
       "      <th>Type1</th>\n",
       "      <th>Type2</th>\n",
       "      <th>Total</th>\n",
       "      <th>HP</th>\n",
       "      <th>Attack</th>\n",
       "      <th>Defense</th>\n",
       "      <th>Sp. Atk</th>\n",
       "      <th>Sp. Def</th>\n",
       "      <th>Speed</th>\n",
       "      <th>Generation</th>\n",
       "    </tr>\n",
       "    <tr>\n",
       "      <th>ID</th>\n",
       "      <th></th>\n",
       "      <th></th>\n",
       "      <th></th>\n",
       "      <th></th>\n",
       "      <th></th>\n",
       "      <th></th>\n",
       "      <th></th>\n",
       "      <th></th>\n",
       "      <th></th>\n",
       "      <th></th>\n",
       "      <th></th>\n",
       "      <th></th>\n",
       "    </tr>\n",
       "  </thead>\n",
       "  <tbody>\n",
       "    <tr>\n",
       "      <th>1</th>\n",
       "      <td>Bulbasaur</td>\n",
       "      <td>NaN</td>\n",
       "      <td>Grass</td>\n",
       "      <td>Poison</td>\n",
       "      <td>318</td>\n",
       "      <td>45</td>\n",
       "      <td>49</td>\n",
       "      <td>49</td>\n",
       "      <td>65</td>\n",
       "      <td>65</td>\n",
       "      <td>45</td>\n",
       "      <td>1</td>\n",
       "    </tr>\n",
       "    <tr>\n",
       "      <th>2</th>\n",
       "      <td>Ivysaur</td>\n",
       "      <td>NaN</td>\n",
       "      <td>Grass</td>\n",
       "      <td>Poison</td>\n",
       "      <td>405</td>\n",
       "      <td>60</td>\n",
       "      <td>62</td>\n",
       "      <td>63</td>\n",
       "      <td>80</td>\n",
       "      <td>80</td>\n",
       "      <td>60</td>\n",
       "      <td>1</td>\n",
       "    </tr>\n",
       "    <tr>\n",
       "      <th>3</th>\n",
       "      <td>Venusaur</td>\n",
       "      <td>NaN</td>\n",
       "      <td>Grass</td>\n",
       "      <td>Poison</td>\n",
       "      <td>525</td>\n",
       "      <td>80</td>\n",
       "      <td>82</td>\n",
       "      <td>83</td>\n",
       "      <td>100</td>\n",
       "      <td>100</td>\n",
       "      <td>80</td>\n",
       "      <td>1</td>\n",
       "    </tr>\n",
       "    <tr>\n",
       "      <th>4</th>\n",
       "      <td>Charmander</td>\n",
       "      <td>NaN</td>\n",
       "      <td>Fire</td>\n",
       "      <td>NaN</td>\n",
       "      <td>309</td>\n",
       "      <td>39</td>\n",
       "      <td>52</td>\n",
       "      <td>43</td>\n",
       "      <td>60</td>\n",
       "      <td>50</td>\n",
       "      <td>65</td>\n",
       "      <td>1</td>\n",
       "    </tr>\n",
       "    <tr>\n",
       "      <th>5</th>\n",
       "      <td>Charmeleon</td>\n",
       "      <td>NaN</td>\n",
       "      <td>Fire</td>\n",
       "      <td>NaN</td>\n",
       "      <td>405</td>\n",
       "      <td>58</td>\n",
       "      <td>64</td>\n",
       "      <td>58</td>\n",
       "      <td>80</td>\n",
       "      <td>65</td>\n",
       "      <td>80</td>\n",
       "      <td>1</td>\n",
       "    </tr>\n",
       "    <tr>\n",
       "      <th>6</th>\n",
       "      <td>Charizard</td>\n",
       "      <td>NaN</td>\n",
       "      <td>Fire</td>\n",
       "      <td>Flying</td>\n",
       "      <td>534</td>\n",
       "      <td>78</td>\n",
       "      <td>84</td>\n",
       "      <td>78</td>\n",
       "      <td>109</td>\n",
       "      <td>85</td>\n",
       "      <td>100</td>\n",
       "      <td>1</td>\n",
       "    </tr>\n",
       "    <tr>\n",
       "      <th>7</th>\n",
       "      <td>Squirtle</td>\n",
       "      <td>NaN</td>\n",
       "      <td>Water</td>\n",
       "      <td>NaN</td>\n",
       "      <td>314</td>\n",
       "      <td>44</td>\n",
       "      <td>48</td>\n",
       "      <td>65</td>\n",
       "      <td>50</td>\n",
       "      <td>64</td>\n",
       "      <td>43</td>\n",
       "      <td>1</td>\n",
       "    </tr>\n",
       "    <tr>\n",
       "      <th>8</th>\n",
       "      <td>Wartortle</td>\n",
       "      <td>NaN</td>\n",
       "      <td>Water</td>\n",
       "      <td>NaN</td>\n",
       "      <td>405</td>\n",
       "      <td>59</td>\n",
       "      <td>63</td>\n",
       "      <td>80</td>\n",
       "      <td>65</td>\n",
       "      <td>80</td>\n",
       "      <td>58</td>\n",
       "      <td>1</td>\n",
       "    </tr>\n",
       "    <tr>\n",
       "      <th>9</th>\n",
       "      <td>Blastoise</td>\n",
       "      <td>NaN</td>\n",
       "      <td>Water</td>\n",
       "      <td>NaN</td>\n",
       "      <td>530</td>\n",
       "      <td>79</td>\n",
       "      <td>83</td>\n",
       "      <td>100</td>\n",
       "      <td>85</td>\n",
       "      <td>105</td>\n",
       "      <td>78</td>\n",
       "      <td>1</td>\n",
       "    </tr>\n",
       "    <tr>\n",
       "      <th>10</th>\n",
       "      <td>Caterpie</td>\n",
       "      <td>NaN</td>\n",
       "      <td>Bug</td>\n",
       "      <td>NaN</td>\n",
       "      <td>195</td>\n",
       "      <td>45</td>\n",
       "      <td>30</td>\n",
       "      <td>35</td>\n",
       "      <td>20</td>\n",
       "      <td>20</td>\n",
       "      <td>45</td>\n",
       "      <td>1</td>\n",
       "    </tr>\n",
       "  </tbody>\n",
       "</table>\n",
       "</div>"
      ],
      "text/plain": [
       "          Name Form  Type1   Type2  Total  HP  Attack  Defense  Sp. Atk  \\\n",
       "ID                                                                        \n",
       "1    Bulbasaur  NaN  Grass  Poison    318  45      49       49       65   \n",
       "2      Ivysaur  NaN  Grass  Poison    405  60      62       63       80   \n",
       "3     Venusaur  NaN  Grass  Poison    525  80      82       83      100   \n",
       "4   Charmander  NaN   Fire     NaN    309  39      52       43       60   \n",
       "5   Charmeleon  NaN   Fire     NaN    405  58      64       58       80   \n",
       "6    Charizard  NaN   Fire  Flying    534  78      84       78      109   \n",
       "7     Squirtle  NaN  Water     NaN    314  44      48       65       50   \n",
       "8    Wartortle  NaN  Water     NaN    405  59      63       80       65   \n",
       "9    Blastoise  NaN  Water     NaN    530  79      83      100       85   \n",
       "10    Caterpie  NaN    Bug     NaN    195  45      30       35       20   \n",
       "\n",
       "    Sp. Def  Speed  Generation  \n",
       "ID                              \n",
       "1        65     45           1  \n",
       "2        80     60           1  \n",
       "3       100     80           1  \n",
       "4        50     65           1  \n",
       "5        65     80           1  \n",
       "6        85    100           1  \n",
       "7        64     43           1  \n",
       "8        80     58           1  \n",
       "9       105     78           1  \n",
       "10       20     45           1  "
      ]
     },
     "execution_count": 4,
     "metadata": {},
     "output_type": "execute_result"
    }
   ],
   "source": [
    "# Puedes darle un vistazon a los primeros elementos \n",
    "data.head(10)"
   ]
  },
  {
   "cell_type": "code",
   "execution_count": 5,
   "id": "912f0f4c",
   "metadata": {},
   "outputs": [
    {
     "data": {
      "text/html": [
       "<div>\n",
       "<style scoped>\n",
       "    .dataframe tbody tr th:only-of-type {\n",
       "        vertical-align: middle;\n",
       "    }\n",
       "\n",
       "    .dataframe tbody tr th {\n",
       "        vertical-align: top;\n",
       "    }\n",
       "\n",
       "    .dataframe thead th {\n",
       "        text-align: right;\n",
       "    }\n",
       "</style>\n",
       "<table border=\"1\" class=\"dataframe\">\n",
       "  <thead>\n",
       "    <tr style=\"text-align: right;\">\n",
       "      <th></th>\n",
       "      <th>Name</th>\n",
       "      <th>Form</th>\n",
       "      <th>Type1</th>\n",
       "      <th>Type2</th>\n",
       "      <th>Total</th>\n",
       "      <th>HP</th>\n",
       "      <th>Attack</th>\n",
       "      <th>Defense</th>\n",
       "      <th>Sp. Atk</th>\n",
       "      <th>Sp. Def</th>\n",
       "      <th>Speed</th>\n",
       "      <th>Generation</th>\n",
       "    </tr>\n",
       "    <tr>\n",
       "      <th>ID</th>\n",
       "      <th></th>\n",
       "      <th></th>\n",
       "      <th></th>\n",
       "      <th></th>\n",
       "      <th></th>\n",
       "      <th></th>\n",
       "      <th></th>\n",
       "      <th></th>\n",
       "      <th></th>\n",
       "      <th></th>\n",
       "      <th></th>\n",
       "      <th></th>\n",
       "    </tr>\n",
       "  </thead>\n",
       "  <tbody>\n",
       "    <tr>\n",
       "      <th>1018</th>\n",
       "      <td>Archaludon</td>\n",
       "      <td>NaN</td>\n",
       "      <td>Steel</td>\n",
       "      <td>Dragon</td>\n",
       "      <td>600</td>\n",
       "      <td>90</td>\n",
       "      <td>105</td>\n",
       "      <td>130</td>\n",
       "      <td>125</td>\n",
       "      <td>65</td>\n",
       "      <td>85</td>\n",
       "      <td>9</td>\n",
       "    </tr>\n",
       "    <tr>\n",
       "      <th>1019</th>\n",
       "      <td>Hydrapple</td>\n",
       "      <td>NaN</td>\n",
       "      <td>Grass</td>\n",
       "      <td>Dragon</td>\n",
       "      <td>540</td>\n",
       "      <td>106</td>\n",
       "      <td>80</td>\n",
       "      <td>110</td>\n",
       "      <td>120</td>\n",
       "      <td>80</td>\n",
       "      <td>44</td>\n",
       "      <td>9</td>\n",
       "    </tr>\n",
       "    <tr>\n",
       "      <th>1020</th>\n",
       "      <td>Gouging Fire</td>\n",
       "      <td>NaN</td>\n",
       "      <td>Fire</td>\n",
       "      <td>Dragon</td>\n",
       "      <td>590</td>\n",
       "      <td>105</td>\n",
       "      <td>115</td>\n",
       "      <td>121</td>\n",
       "      <td>65</td>\n",
       "      <td>93</td>\n",
       "      <td>91</td>\n",
       "      <td>9</td>\n",
       "    </tr>\n",
       "    <tr>\n",
       "      <th>1021</th>\n",
       "      <td>Raging Bolt</td>\n",
       "      <td>NaN</td>\n",
       "      <td>Electric</td>\n",
       "      <td>Dragon</td>\n",
       "      <td>590</td>\n",
       "      <td>125</td>\n",
       "      <td>73</td>\n",
       "      <td>91</td>\n",
       "      <td>137</td>\n",
       "      <td>89</td>\n",
       "      <td>75</td>\n",
       "      <td>9</td>\n",
       "    </tr>\n",
       "    <tr>\n",
       "      <th>1022</th>\n",
       "      <td>Iron Boulder</td>\n",
       "      <td>NaN</td>\n",
       "      <td>Rock</td>\n",
       "      <td>Psychic</td>\n",
       "      <td>590</td>\n",
       "      <td>90</td>\n",
       "      <td>120</td>\n",
       "      <td>80</td>\n",
       "      <td>68</td>\n",
       "      <td>108</td>\n",
       "      <td>124</td>\n",
       "      <td>9</td>\n",
       "    </tr>\n",
       "    <tr>\n",
       "      <th>1023</th>\n",
       "      <td>Iron Crown</td>\n",
       "      <td>NaN</td>\n",
       "      <td>Steel</td>\n",
       "      <td>Psychic</td>\n",
       "      <td>590</td>\n",
       "      <td>90</td>\n",
       "      <td>72</td>\n",
       "      <td>100</td>\n",
       "      <td>122</td>\n",
       "      <td>108</td>\n",
       "      <td>98</td>\n",
       "      <td>9</td>\n",
       "    </tr>\n",
       "    <tr>\n",
       "      <th>1024</th>\n",
       "      <td>Terapagos</td>\n",
       "      <td>Normal Form</td>\n",
       "      <td>Normal</td>\n",
       "      <td>NaN</td>\n",
       "      <td>450</td>\n",
       "      <td>90</td>\n",
       "      <td>65</td>\n",
       "      <td>85</td>\n",
       "      <td>65</td>\n",
       "      <td>85</td>\n",
       "      <td>60</td>\n",
       "      <td>9</td>\n",
       "    </tr>\n",
       "    <tr>\n",
       "      <th>1024</th>\n",
       "      <td>Terapagos</td>\n",
       "      <td>Terastal Form</td>\n",
       "      <td>Normal</td>\n",
       "      <td>NaN</td>\n",
       "      <td>600</td>\n",
       "      <td>95</td>\n",
       "      <td>95</td>\n",
       "      <td>110</td>\n",
       "      <td>105</td>\n",
       "      <td>110</td>\n",
       "      <td>85</td>\n",
       "      <td>9</td>\n",
       "    </tr>\n",
       "    <tr>\n",
       "      <th>1024</th>\n",
       "      <td>Terapagos</td>\n",
       "      <td>Stellar Form</td>\n",
       "      <td>Normal</td>\n",
       "      <td>NaN</td>\n",
       "      <td>700</td>\n",
       "      <td>160</td>\n",
       "      <td>105</td>\n",
       "      <td>110</td>\n",
       "      <td>130</td>\n",
       "      <td>110</td>\n",
       "      <td>85</td>\n",
       "      <td>9</td>\n",
       "    </tr>\n",
       "    <tr>\n",
       "      <th>1025</th>\n",
       "      <td>Pecharunt</td>\n",
       "      <td>NaN</td>\n",
       "      <td>Poison</td>\n",
       "      <td>Ghost</td>\n",
       "      <td>600</td>\n",
       "      <td>88</td>\n",
       "      <td>88</td>\n",
       "      <td>160</td>\n",
       "      <td>88</td>\n",
       "      <td>88</td>\n",
       "      <td>88</td>\n",
       "      <td>9</td>\n",
       "    </tr>\n",
       "  </tbody>\n",
       "</table>\n",
       "</div>"
      ],
      "text/plain": [
       "              Name           Form     Type1    Type2  Total   HP  Attack  \\\n",
       "ID                                                                         \n",
       "1018    Archaludon            NaN     Steel   Dragon    600   90     105   \n",
       "1019     Hydrapple            NaN     Grass   Dragon    540  106      80   \n",
       "1020  Gouging Fire            NaN      Fire   Dragon    590  105     115   \n",
       "1021   Raging Bolt            NaN  Electric   Dragon    590  125      73   \n",
       "1022  Iron Boulder            NaN      Rock  Psychic    590   90     120   \n",
       "1023    Iron Crown            NaN     Steel  Psychic    590   90      72   \n",
       "1024     Terapagos    Normal Form    Normal      NaN    450   90      65   \n",
       "1024     Terapagos  Terastal Form    Normal      NaN    600   95      95   \n",
       "1024     Terapagos   Stellar Form    Normal      NaN    700  160     105   \n",
       "1025     Pecharunt            NaN    Poison    Ghost    600   88      88   \n",
       "\n",
       "      Defense  Sp. Atk  Sp. Def  Speed  Generation  \n",
       "ID                                                  \n",
       "1018      130      125       65     85           9  \n",
       "1019      110      120       80     44           9  \n",
       "1020      121       65       93     91           9  \n",
       "1021       91      137       89     75           9  \n",
       "1022       80       68      108    124           9  \n",
       "1023      100      122      108     98           9  \n",
       "1024       85       65       85     60           9  \n",
       "1024      110      105      110     85           9  \n",
       "1024      110      130      110     85           9  \n",
       "1025      160       88       88     88           9  "
      ]
     },
     "execution_count": 5,
     "metadata": {},
     "output_type": "execute_result"
    }
   ],
   "source": [
    "# o a los ultimos\n",
    "data.tail(10)"
   ]
  },
  {
   "cell_type": "code",
   "execution_count": 6,
   "id": "ee5c3335",
   "metadata": {},
   "outputs": [
    {
     "name": "stdout",
     "output_type": "stream",
     "text": [
      "<class 'pandas.core.frame.DataFrame'>\n",
      "Index: 1215 entries, 1 to 1025\n",
      "Data columns (total 12 columns):\n",
      " #   Column      Non-Null Count  Dtype \n",
      "---  ------      --------------  ----- \n",
      " 0   Name        1215 non-null   object\n",
      " 1   Form        230 non-null    object\n",
      " 2   Type1       1215 non-null   object\n",
      " 3   Type2       669 non-null    object\n",
      " 4   Total       1215 non-null   int64 \n",
      " 5   HP          1215 non-null   int64 \n",
      " 6   Attack      1215 non-null   int64 \n",
      " 7   Defense     1215 non-null   int64 \n",
      " 8   Sp. Atk     1215 non-null   int64 \n",
      " 9   Sp. Def     1215 non-null   int64 \n",
      " 10  Speed       1215 non-null   int64 \n",
      " 11  Generation  1215 non-null   int64 \n",
      "dtypes: int64(8), object(4)\n",
      "memory usage: 123.4+ KB\n"
     ]
    }
   ],
   "source": [
    "# Tambien puedes ver un resumen general\n",
    "data.info()"
   ]
  },
  {
   "cell_type": "markdown",
   "id": "37b69005",
   "metadata": {},
   "source": [
    "# Manipulacion basica"
   ]
  },
  {
   "cell_type": "code",
   "execution_count": 44,
   "id": "16ae6501",
   "metadata": {},
   "outputs": [
    {
     "name": "stdout",
     "output_type": "stream",
     "text": [
      "Por el nombre del indice: \n",
      "Name    Bulbasaur\n",
      "Form          NaN\n",
      "Name: 1, dtype: object\n"
     ]
    }
   ],
   "source": [
    "# Si solo quieres recuerar informacion de un pokemon (es decir una fila) en particular hay distintas maneras como:\n",
    "print(f\"Por el nombre del indice: \\n{data.loc[1].head(2)}\") \n"
   ]
  },
  {
   "cell_type": "code",
   "execution_count": 43,
   "id": "028c3dcb",
   "metadata": {},
   "outputs": [
    {
     "name": "stdout",
     "output_type": "stream",
     "text": [
      "Por indice numerico: \n",
      "Name    Bulbasaur\n",
      "Form          NaN\n",
      "Name: 1, dtype: object\n"
     ]
    }
   ],
   "source": [
    "print(f\"Por indice numerico: \\n{data.iloc[0].head(2)}\") "
   ]
  },
  {
   "cell_type": "code",
   "execution_count": 41,
   "id": "ae51a49e",
   "metadata": {},
   "outputs": [
    {
     "name": "stdout",
     "output_type": "stream",
     "text": [
      "Filtrando: \n",
      "         Name Form  Type1   Type2  Total  HP  Attack  Defense  Sp. Atk  \\\n",
      "ID                                                                       \n",
      "1   Bulbasaur  NaN  Grass  Poison    318  45      49       49       65   \n",
      "\n",
      "    Sp. Def  Speed  Generation  \n",
      "ID                              \n",
      "1        65     45           1  \n"
     ]
    }
   ],
   "source": [
    "print(f\"Filtrando: \\n{data[data.Name=='Bulbasaur']}\") "
   ]
  },
  {
   "cell_type": "code",
   "execution_count": 42,
   "id": "9a4d84e8",
   "metadata": {},
   "outputs": [
    {
     "data": {
      "text/plain": [
       "ID\n",
       "1    Bulbasaur\n",
       "2      Ivysaur\n",
       "Name: Name, dtype: object"
      ]
     },
     "execution_count": 42,
     "metadata": {},
     "output_type": "execute_result"
    }
   ],
   "source": [
    "# Por otro lado las columnas ademas de lo anterior tambien tienen una forma mas simple\n",
    "data.Name.head(2)"
   ]
  },
  {
   "cell_type": "code",
   "execution_count": null,
   "id": "a1374325",
   "metadata": {},
   "outputs": [
    {
     "data": {
      "text/html": [
       "<div>\n",
       "<style scoped>\n",
       "    .dataframe tbody tr th:only-of-type {\n",
       "        vertical-align: middle;\n",
       "    }\n",
       "\n",
       "    .dataframe tbody tr th {\n",
       "        vertical-align: top;\n",
       "    }\n",
       "\n",
       "    .dataframe thead th {\n",
       "        text-align: right;\n",
       "    }\n",
       "</style>\n",
       "<table border=\"1\" class=\"dataframe\">\n",
       "  <thead>\n",
       "    <tr style=\"text-align: right;\">\n",
       "      <th></th>\n",
       "      <th>Name</th>\n",
       "      <th>Form</th>\n",
       "      <th>Type1</th>\n",
       "      <th>Type2</th>\n",
       "      <th>Total</th>\n",
       "      <th>HP</th>\n",
       "      <th>Attack</th>\n",
       "      <th>Defense</th>\n",
       "      <th>Sp. Atk</th>\n",
       "      <th>Sp. Def</th>\n",
       "      <th>Speed</th>\n",
       "      <th>Generation</th>\n",
       "    </tr>\n",
       "    <tr>\n",
       "      <th>ID</th>\n",
       "      <th></th>\n",
       "      <th></th>\n",
       "      <th></th>\n",
       "      <th></th>\n",
       "      <th></th>\n",
       "      <th></th>\n",
       "      <th></th>\n",
       "      <th></th>\n",
       "      <th></th>\n",
       "      <th></th>\n",
       "      <th></th>\n",
       "      <th></th>\n",
       "    </tr>\n",
       "  </thead>\n",
       "  <tbody>\n",
       "    <tr>\n",
       "      <th>1</th>\n",
       "      <td>Bulbasaur</td>\n",
       "      <td>NaN</td>\n",
       "      <td>Grass</td>\n",
       "      <td>Poison</td>\n",
       "      <td>318</td>\n",
       "      <td>45</td>\n",
       "      <td>49</td>\n",
       "      <td>49</td>\n",
       "      <td>65</td>\n",
       "      <td>65</td>\n",
       "      <td>45</td>\n",
       "      <td>1</td>\n",
       "    </tr>\n",
       "    <tr>\n",
       "      <th>2</th>\n",
       "      <td>Ivysaur</td>\n",
       "      <td>NaN</td>\n",
       "      <td>Grass</td>\n",
       "      <td>Poison</td>\n",
       "      <td>405</td>\n",
       "      <td>60</td>\n",
       "      <td>62</td>\n",
       "      <td>63</td>\n",
       "      <td>80</td>\n",
       "      <td>80</td>\n",
       "      <td>60</td>\n",
       "      <td>1</td>\n",
       "    </tr>\n",
       "  </tbody>\n",
       "</table>\n",
       "</div>"
      ],
      "text/plain": [
       "         Name Form  Type1   Type2  Total  HP  Attack  Defense  Sp. Atk  \\\n",
       "ID                                                                       \n",
       "1   Bulbasaur  NaN  Grass  Poison    318  45      49       49       65   \n",
       "2     Ivysaur  NaN  Grass  Poison    405  60      62       63       80   \n",
       "\n",
       "    Sp. Def  Speed  Generation  \n",
       "ID                              \n",
       "1        65     45           1  \n",
       "2        80     60           1  "
      ]
     },
     "execution_count": 37,
     "metadata": {},
     "output_type": "execute_result"
    }
   ],
   "source": [
    "# Tambien puedes seleccionar multiples elementos\n",
    "# Filas\n",
    "data.loc[[1,2]]"
   ]
  },
  {
   "cell_type": "code",
   "execution_count": null,
   "id": "76cf03e3",
   "metadata": {},
   "outputs": [
    {
     "data": {
      "text/html": [
       "<div>\n",
       "<style scoped>\n",
       "    .dataframe tbody tr th:only-of-type {\n",
       "        vertical-align: middle;\n",
       "    }\n",
       "\n",
       "    .dataframe tbody tr th {\n",
       "        vertical-align: top;\n",
       "    }\n",
       "\n",
       "    .dataframe thead th {\n",
       "        text-align: right;\n",
       "    }\n",
       "</style>\n",
       "<table border=\"1\" class=\"dataframe\">\n",
       "  <thead>\n",
       "    <tr style=\"text-align: right;\">\n",
       "      <th></th>\n",
       "      <th>Name</th>\n",
       "      <th>Attack</th>\n",
       "    </tr>\n",
       "    <tr>\n",
       "      <th>ID</th>\n",
       "      <th></th>\n",
       "      <th></th>\n",
       "    </tr>\n",
       "  </thead>\n",
       "  <tbody>\n",
       "    <tr>\n",
       "      <th>1</th>\n",
       "      <td>Bulbasaur</td>\n",
       "      <td>49</td>\n",
       "    </tr>\n",
       "    <tr>\n",
       "      <th>2</th>\n",
       "      <td>Ivysaur</td>\n",
       "      <td>62</td>\n",
       "    </tr>\n",
       "  </tbody>\n",
       "</table>\n",
       "</div>"
      ],
      "text/plain": [
       "         Name  Attack\n",
       "ID                   \n",
       "1   Bulbasaur      49\n",
       "2     Ivysaur      62"
      ]
     },
     "execution_count": 39,
     "metadata": {},
     "output_type": "execute_result"
    }
   ],
   "source": [
    "#Columnas\n",
    "# Nota ':' se usa para indicar que se tomen todos los elementos inespesificamente (en este caso filas)\n",
    "data.loc[:,[\"Name\",\"Attack\"]].head(2)"
   ]
  },
  {
   "cell_type": "code",
   "execution_count": 48,
   "id": "0b1c92c4",
   "metadata": {},
   "outputs": [
    {
     "name": "stdout",
     "output_type": "stream",
     "text": [
      "Unas:\n",
      "Bulbasaur\n",
      "o Varias\n",
      "          Name  Type1\n",
      "ID                   \n",
      "1    Bulbasaur  Grass\n",
      "4   Charmander   Fire\n"
     ]
    }
   ],
   "source": [
    "# y obvio tambien columnas y filas especificas\n",
    "print(f'Unas:\\n{data.loc[1,\"Name\"]}')\n",
    "print(f'o Varias\\n{data.loc[[1,4],[\"Name\",\"Type1\"]]}')"
   ]
  },
  {
   "cell_type": "code",
   "execution_count": 30,
   "id": "84130c1e",
   "metadata": {},
   "outputs": [
    {
     "name": "stdout",
     "output_type": "stream",
     "text": [
      "Sus valores unicos: ['Grass', 'Fire', 'Water', 'Bug', 'Normal', 'Poison', 'Electric', 'Ground', 'Fairy', 'Fighting', 'Psychic', 'Rock', 'Ghost', 'Ice', 'Dragon', 'Dark', 'Steel', 'Flying']\n",
      "Las cuentas de los valores unicos: {'Water': 150, 'Normal': 134, 'Grass': 113, 'Bug': 91, 'Psychic': 82, 'Fire': 76, 'Electric': 74, 'Rock': 68, 'Dark': 56, 'Fighting': 50, 'Poison': 49, 'Dragon': 49, 'Ghost': 47, 'Ground': 47, 'Steel': 45, 'Ice': 43, 'Fairy': 31, 'Flying': 10}\n"
     ]
    }
   ],
   "source": [
    "# Si solo seleccionas columnas particulares puedes cononcer mas detalles sobre ellas, como:\n",
    "print(f\"Sus valores unicos: {data.Type1.unique().tolist()}\")\n",
    "\n",
    "print(f\"Las cuentas de los valores unicos: {data.Type1.value_counts().to_dict()}\")\n"
   ]
  },
  {
   "cell_type": "code",
   "execution_count": 36,
   "id": "d3dd96bd",
   "metadata": {},
   "outputs": [
    {
     "name": "stdout",
     "output_type": "stream",
     "text": [
      "Sus valores unicos:\n",
      "Mean: 81.1522633744856 \n",
      "SD: 32.037133922684156\n",
      "Median: 80.0\n",
      "Min: 5\n",
      "Max: 190\n",
      "Variance: 1026.37794998\n",
      "Mode: 0    100\n",
      "Name: Attack, dtype: int64\n"
     ]
    }
   ],
   "source": [
    "\n",
    "# Para valores numericos puedes conocer sus propiedades\n",
    "print(f\"\"\"Sus valores unicos:\\nMean: {data.Attack.mean()} \\nSD: {data.Attack.std()}\\nMedian: {data.Attack.median()}\n",
    "Min: {data.Attack.min()}\\nMax: {data.Attack.max()}\\nVariance: {data.Attack.var()}\\nMode: {data.Attack.mode()}\"\"\")"
   ]
  },
  {
   "cell_type": "markdown",
   "id": "59a7910e",
   "metadata": {},
   "source": [
    "# Valores nulos"
   ]
  },
  {
   "cell_type": "code",
   "execution_count": null,
   "id": "1b75f5db",
   "metadata": {},
   "outputs": [
    {
     "data": {
      "text/plain": [
       "ID\n",
       "1    False\n",
       "2    False\n",
       "3    False\n",
       "4     True\n",
       "5     True\n",
       "Name: Type2, dtype: bool"
      ]
     },
     "execution_count": 50,
     "metadata": {},
     "output_type": "execute_result"
    }
   ],
   "source": [
    "# Como habras notado aveces hay valores nulos en las columnas que no son informatvos y pandas te permite saber cuales son\n",
    "data.Type2.isna().head()"
   ]
  },
  {
   "cell_type": "code",
   "execution_count": null,
   "id": "483fd65e",
   "metadata": {},
   "outputs": [
    {
     "data": {
      "text/html": [
       "<div>\n",
       "<style scoped>\n",
       "    .dataframe tbody tr th:only-of-type {\n",
       "        vertical-align: middle;\n",
       "    }\n",
       "\n",
       "    .dataframe tbody tr th {\n",
       "        vertical-align: top;\n",
       "    }\n",
       "\n",
       "    .dataframe thead th {\n",
       "        text-align: right;\n",
       "    }\n",
       "</style>\n",
       "<table border=\"1\" class=\"dataframe\">\n",
       "  <thead>\n",
       "    <tr style=\"text-align: right;\">\n",
       "      <th></th>\n",
       "      <th>Name</th>\n",
       "      <th>Form</th>\n",
       "      <th>Type1</th>\n",
       "      <th>Type2</th>\n",
       "      <th>Total</th>\n",
       "      <th>HP</th>\n",
       "      <th>Attack</th>\n",
       "      <th>Defense</th>\n",
       "      <th>Sp. Atk</th>\n",
       "      <th>Sp. Def</th>\n",
       "      <th>Speed</th>\n",
       "      <th>Generation</th>\n",
       "    </tr>\n",
       "    <tr>\n",
       "      <th>ID</th>\n",
       "      <th></th>\n",
       "      <th></th>\n",
       "      <th></th>\n",
       "      <th></th>\n",
       "      <th></th>\n",
       "      <th></th>\n",
       "      <th></th>\n",
       "      <th></th>\n",
       "      <th></th>\n",
       "      <th></th>\n",
       "      <th></th>\n",
       "      <th></th>\n",
       "    </tr>\n",
       "  </thead>\n",
       "  <tbody>\n",
       "    <tr>\n",
       "      <th>4</th>\n",
       "      <td>Charmander</td>\n",
       "      <td>NaN</td>\n",
       "      <td>Fire</td>\n",
       "      <td>NaN</td>\n",
       "      <td>309</td>\n",
       "      <td>39</td>\n",
       "      <td>52</td>\n",
       "      <td>43</td>\n",
       "      <td>60</td>\n",
       "      <td>50</td>\n",
       "      <td>65</td>\n",
       "      <td>1</td>\n",
       "    </tr>\n",
       "    <tr>\n",
       "      <th>5</th>\n",
       "      <td>Charmeleon</td>\n",
       "      <td>NaN</td>\n",
       "      <td>Fire</td>\n",
       "      <td>NaN</td>\n",
       "      <td>405</td>\n",
       "      <td>58</td>\n",
       "      <td>64</td>\n",
       "      <td>58</td>\n",
       "      <td>80</td>\n",
       "      <td>65</td>\n",
       "      <td>80</td>\n",
       "      <td>1</td>\n",
       "    </tr>\n",
       "  </tbody>\n",
       "</table>\n",
       "</div>"
      ],
      "text/plain": [
       "          Name Form Type1 Type2  Total  HP  Attack  Defense  Sp. Atk  Sp. Def  \\\n",
       "ID                                                                              \n",
       "4   Charmander  NaN  Fire   NaN    309  39      52       43       60       50   \n",
       "5   Charmeleon  NaN  Fire   NaN    405  58      64       58       80       65   \n",
       "\n",
       "    Speed  Generation  \n",
       "ID                     \n",
       "4      65           1  \n",
       "5      80           1  "
      ]
     },
     "execution_count": 52,
     "metadata": {},
     "output_type": "execute_result"
    }
   ],
   "source": [
    "# Si bien solo te da un vector booleano esto lo puedes usar para seleccionar aquellos valores nulos\n",
    "data[data.Type2.isna()].head(2)"
   ]
  },
  {
   "cell_type": "code",
   "execution_count": null,
   "id": "9c4ddbb9",
   "metadata": {},
   "outputs": [
    {
     "data": {
      "text/html": [
       "<div>\n",
       "<style scoped>\n",
       "    .dataframe tbody tr th:only-of-type {\n",
       "        vertical-align: middle;\n",
       "    }\n",
       "\n",
       "    .dataframe tbody tr th {\n",
       "        vertical-align: top;\n",
       "    }\n",
       "\n",
       "    .dataframe thead th {\n",
       "        text-align: right;\n",
       "    }\n",
       "</style>\n",
       "<table border=\"1\" class=\"dataframe\">\n",
       "  <thead>\n",
       "    <tr style=\"text-align: right;\">\n",
       "      <th></th>\n",
       "      <th>Name</th>\n",
       "      <th>Form</th>\n",
       "      <th>Type1</th>\n",
       "      <th>Type2</th>\n",
       "      <th>Total</th>\n",
       "      <th>HP</th>\n",
       "      <th>Attack</th>\n",
       "      <th>Defense</th>\n",
       "      <th>Sp. Atk</th>\n",
       "      <th>Sp. Def</th>\n",
       "      <th>Speed</th>\n",
       "      <th>Generation</th>\n",
       "    </tr>\n",
       "    <tr>\n",
       "      <th>ID</th>\n",
       "      <th></th>\n",
       "      <th></th>\n",
       "      <th></th>\n",
       "      <th></th>\n",
       "      <th></th>\n",
       "      <th></th>\n",
       "      <th></th>\n",
       "      <th></th>\n",
       "      <th></th>\n",
       "      <th></th>\n",
       "      <th></th>\n",
       "      <th></th>\n",
       "    </tr>\n",
       "  </thead>\n",
       "  <tbody>\n",
       "    <tr>\n",
       "      <th>1</th>\n",
       "      <td>Bulbasaur</td>\n",
       "      <td>NaN</td>\n",
       "      <td>Grass</td>\n",
       "      <td>Poison</td>\n",
       "      <td>318</td>\n",
       "      <td>45</td>\n",
       "      <td>49</td>\n",
       "      <td>49</td>\n",
       "      <td>65</td>\n",
       "      <td>65</td>\n",
       "      <td>45</td>\n",
       "      <td>1</td>\n",
       "    </tr>\n",
       "    <tr>\n",
       "      <th>2</th>\n",
       "      <td>Ivysaur</td>\n",
       "      <td>NaN</td>\n",
       "      <td>Grass</td>\n",
       "      <td>Poison</td>\n",
       "      <td>405</td>\n",
       "      <td>60</td>\n",
       "      <td>62</td>\n",
       "      <td>63</td>\n",
       "      <td>80</td>\n",
       "      <td>80</td>\n",
       "      <td>60</td>\n",
       "      <td>1</td>\n",
       "    </tr>\n",
       "  </tbody>\n",
       "</table>\n",
       "</div>"
      ],
      "text/plain": [
       "         Name Form  Type1   Type2  Total  HP  Attack  Defense  Sp. Atk  \\\n",
       "ID                                                                       \n",
       "1   Bulbasaur  NaN  Grass  Poison    318  45      49       49       65   \n",
       "2     Ivysaur  NaN  Grass  Poison    405  60      62       63       80   \n",
       "\n",
       "    Sp. Def  Speed  Generation  \n",
       "ID                              \n",
       "1        65     45           1  \n",
       "2        80     60           1  "
      ]
     },
     "execution_count": 54,
     "metadata": {},
     "output_type": "execute_result"
    }
   ],
   "source": [
    "# O bien aquellos que no son nan\n",
    "# Nota '~' se usa para negar, es decir te dara lo contrario al dataframe original \n",
    "data[~data.Type2.isna()].head(2)"
   ]
  },
  {
   "cell_type": "code",
   "execution_count": 55,
   "id": "24b50907",
   "metadata": {},
   "outputs": [
    {
     "data": {
      "text/html": [
       "<div>\n",
       "<style scoped>\n",
       "    .dataframe tbody tr th:only-of-type {\n",
       "        vertical-align: middle;\n",
       "    }\n",
       "\n",
       "    .dataframe tbody tr th {\n",
       "        vertical-align: top;\n",
       "    }\n",
       "\n",
       "    .dataframe thead th {\n",
       "        text-align: right;\n",
       "    }\n",
       "</style>\n",
       "<table border=\"1\" class=\"dataframe\">\n",
       "  <thead>\n",
       "    <tr style=\"text-align: right;\">\n",
       "      <th></th>\n",
       "      <th>Name</th>\n",
       "      <th>Form</th>\n",
       "      <th>Type1</th>\n",
       "      <th>Type2</th>\n",
       "      <th>Total</th>\n",
       "      <th>HP</th>\n",
       "      <th>Attack</th>\n",
       "      <th>Defense</th>\n",
       "      <th>Sp. Atk</th>\n",
       "      <th>Sp. Def</th>\n",
       "      <th>Speed</th>\n",
       "      <th>Generation</th>\n",
       "    </tr>\n",
       "    <tr>\n",
       "      <th>ID</th>\n",
       "      <th></th>\n",
       "      <th></th>\n",
       "      <th></th>\n",
       "      <th></th>\n",
       "      <th></th>\n",
       "      <th></th>\n",
       "      <th></th>\n",
       "      <th></th>\n",
       "      <th></th>\n",
       "      <th></th>\n",
       "      <th></th>\n",
       "      <th></th>\n",
       "    </tr>\n",
       "  </thead>\n",
       "  <tbody>\n",
       "    <tr>\n",
       "      <th>1</th>\n",
       "      <td>Bulbasaur</td>\n",
       "      <td>NaN</td>\n",
       "      <td>Grass</td>\n",
       "      <td>Poison</td>\n",
       "      <td>318</td>\n",
       "      <td>45</td>\n",
       "      <td>49</td>\n",
       "      <td>49</td>\n",
       "      <td>65</td>\n",
       "      <td>65</td>\n",
       "      <td>45</td>\n",
       "      <td>1</td>\n",
       "    </tr>\n",
       "    <tr>\n",
       "      <th>2</th>\n",
       "      <td>Ivysaur</td>\n",
       "      <td>NaN</td>\n",
       "      <td>Grass</td>\n",
       "      <td>Poison</td>\n",
       "      <td>405</td>\n",
       "      <td>60</td>\n",
       "      <td>62</td>\n",
       "      <td>63</td>\n",
       "      <td>80</td>\n",
       "      <td>80</td>\n",
       "      <td>60</td>\n",
       "      <td>1</td>\n",
       "    </tr>\n",
       "  </tbody>\n",
       "</table>\n",
       "</div>"
      ],
      "text/plain": [
       "         Name Form  Type1   Type2  Total  HP  Attack  Defense  Sp. Atk  \\\n",
       "ID                                                                       \n",
       "1   Bulbasaur  NaN  Grass  Poison    318  45      49       49       65   \n",
       "2     Ivysaur  NaN  Grass  Poison    405  60      62       63       80   \n",
       "\n",
       "    Sp. Def  Speed  Generation  \n",
       "ID                              \n",
       "1        65     45           1  \n",
       "2        80     60           1  "
      ]
     },
     "execution_count": 55,
     "metadata": {},
     "output_type": "execute_result"
    }
   ],
   "source": [
    "# Aunque en caso de los nan es mejor hacerlo asi\n",
    "data[data.Type2.notna()].head(2)"
   ]
  },
  {
   "cell_type": "code",
   "execution_count": null,
   "id": "0f538c40",
   "metadata": {},
   "outputs": [
    {
     "name": "stdout",
     "output_type": "stream",
     "text": [
      "Si hay alguno: True\n",
      "Si son todos: False\n",
      "El total: 546\n"
     ]
    }
   ],
   "source": [
    "# Tambien puedes saber detalles especificos sobre los nan de una columna como:\n",
    "print(f\"Si hay alguno: {data.Type2.isna().any()}\\nSi son todos: {data.Type2.isna().all()}\\nEl total: {data.Type2.isna().sum()}\")"
   ]
  },
  {
   "cell_type": "code",
   "execution_count": 65,
   "id": "d3228220",
   "metadata": {},
   "outputs": [
    {
     "name": "stdout",
     "output_type": "stream",
     "text": [
      "Total de nans: 1531\n",
      "         Name Form  Type1   Type2  Total  HP  Attack  Defense  Sp. Atk  \\\n",
      "ID                                                                       \n",
      "1   Bulbasaur  NaN  Grass  Poison    318  45      49       49       65   \n",
      "2     Ivysaur  NaN  Grass  Poison    405  60      62       63       80   \n",
      "\n",
      "    Sp. Def  Speed  Generation  \n",
      "ID                              \n",
      "1        65     45           1  \n",
      "2        80     60           1  \n",
      "Empty DataFrame\n",
      "Columns: [Name, Form, Type1, Type2, Total, HP, Attack, Defense, Sp. Atk, Sp. Def, Speed, Generation]\n",
      "Index: []\n",
      "Esta vacio?: True\n"
     ]
    }
   ],
   "source": [
    "# o del dataframe en general\n",
    "print(f\"Total de nans: {data.isna().sum().sum()}\")\n",
    "# Nota aqui se estan seleccionando las filas de dataframe que tenga al menos un nan en sus columnas, o que todos su valores son nan\n",
    "print(data[data.isna().any(axis=1)].head(2))\n",
    "print(data[data.isna().all(axis=1)])\n",
    "# Como se ve devuelve un dataframe vacio en caso de all, que puedes revisar con el atributo 'empty'\n",
    "print(f\"Esta vacio?: {data[data.isna().all(axis=1)].empty}\")"
   ]
  },
  {
   "cell_type": "code",
   "execution_count": null,
   "id": "500aa67a",
   "metadata": {},
   "outputs": [
    {
     "data": {
      "text/html": [
       "<div>\n",
       "<style scoped>\n",
       "    .dataframe tbody tr th:only-of-type {\n",
       "        vertical-align: middle;\n",
       "    }\n",
       "\n",
       "    .dataframe tbody tr th {\n",
       "        vertical-align: top;\n",
       "    }\n",
       "\n",
       "    .dataframe thead th {\n",
       "        text-align: right;\n",
       "    }\n",
       "</style>\n",
       "<table border=\"1\" class=\"dataframe\">\n",
       "  <thead>\n",
       "    <tr style=\"text-align: right;\">\n",
       "      <th></th>\n",
       "      <th>Name</th>\n",
       "      <th>Form</th>\n",
       "      <th>Type1</th>\n",
       "      <th>Type2</th>\n",
       "      <th>Total</th>\n",
       "      <th>HP</th>\n",
       "      <th>Attack</th>\n",
       "      <th>Defense</th>\n",
       "      <th>Sp. Atk</th>\n",
       "      <th>Sp. Def</th>\n",
       "      <th>Speed</th>\n",
       "      <th>Generation</th>\n",
       "    </tr>\n",
       "    <tr>\n",
       "      <th>ID</th>\n",
       "      <th></th>\n",
       "      <th></th>\n",
       "      <th></th>\n",
       "      <th></th>\n",
       "      <th></th>\n",
       "      <th></th>\n",
       "      <th></th>\n",
       "      <th></th>\n",
       "      <th></th>\n",
       "      <th></th>\n",
       "      <th></th>\n",
       "      <th></th>\n",
       "    </tr>\n",
       "  </thead>\n",
       "  <tbody>\n",
       "    <tr>\n",
       "      <th>1</th>\n",
       "      <td>Bulbasaur</td>\n",
       "      <td></td>\n",
       "      <td>Grass</td>\n",
       "      <td>Poison</td>\n",
       "      <td>318</td>\n",
       "      <td>45</td>\n",
       "      <td>49</td>\n",
       "      <td>49</td>\n",
       "      <td>65</td>\n",
       "      <td>65</td>\n",
       "      <td>45</td>\n",
       "      <td>1</td>\n",
       "    </tr>\n",
       "    <tr>\n",
       "      <th>2</th>\n",
       "      <td>Ivysaur</td>\n",
       "      <td></td>\n",
       "      <td>Grass</td>\n",
       "      <td>Poison</td>\n",
       "      <td>405</td>\n",
       "      <td>60</td>\n",
       "      <td>62</td>\n",
       "      <td>63</td>\n",
       "      <td>80</td>\n",
       "      <td>80</td>\n",
       "      <td>60</td>\n",
       "      <td>1</td>\n",
       "    </tr>\n",
       "  </tbody>\n",
       "</table>\n",
       "</div>"
      ],
      "text/plain": [
       "         Name Form  Type1   Type2  Total  HP  Attack  Defense  Sp. Atk  \\\n",
       "ID                                                                       \n",
       "1   Bulbasaur       Grass  Poison    318  45      49       49       65   \n",
       "2     Ivysaur       Grass  Poison    405  60      62       63       80   \n",
       "\n",
       "    Sp. Def  Speed  Generation  \n",
       "ID                              \n",
       "1        65     45           1  \n",
       "2        80     60           1  "
      ]
     },
     "execution_count": 67,
     "metadata": {},
     "output_type": "execute_result"
    }
   ],
   "source": [
    "# Tambien puedas manipular los nan, como rellenarlos, es decir asignarles un 'valor'\n",
    "data.head(2).fillna(\" \")\n"
   ]
  },
  {
   "cell_type": "code",
   "execution_count": null,
   "id": "9768cea3",
   "metadata": {},
   "outputs": [
    {
     "data": {
      "text/html": [
       "<div>\n",
       "<style scoped>\n",
       "    .dataframe tbody tr th:only-of-type {\n",
       "        vertical-align: middle;\n",
       "    }\n",
       "\n",
       "    .dataframe tbody tr th {\n",
       "        vertical-align: top;\n",
       "    }\n",
       "\n",
       "    .dataframe thead th {\n",
       "        text-align: right;\n",
       "    }\n",
       "</style>\n",
       "<table border=\"1\" class=\"dataframe\">\n",
       "  <thead>\n",
       "    <tr style=\"text-align: right;\">\n",
       "      <th></th>\n",
       "      <th>Name</th>\n",
       "      <th>Form</th>\n",
       "      <th>Type1</th>\n",
       "      <th>Type2</th>\n",
       "      <th>Total</th>\n",
       "      <th>HP</th>\n",
       "      <th>Attack</th>\n",
       "      <th>Defense</th>\n",
       "      <th>Sp. Atk</th>\n",
       "      <th>Sp. Def</th>\n",
       "      <th>Speed</th>\n",
       "      <th>Generation</th>\n",
       "    </tr>\n",
       "    <tr>\n",
       "      <th>ID</th>\n",
       "      <th></th>\n",
       "      <th></th>\n",
       "      <th></th>\n",
       "      <th></th>\n",
       "      <th></th>\n",
       "      <th></th>\n",
       "      <th></th>\n",
       "      <th></th>\n",
       "      <th></th>\n",
       "      <th></th>\n",
       "      <th></th>\n",
       "      <th></th>\n",
       "    </tr>\n",
       "  </thead>\n",
       "  <tbody>\n",
       "    <tr>\n",
       "      <th>413</th>\n",
       "      <td>Wormadam</td>\n",
       "      <td>Plant Cloak</td>\n",
       "      <td>Bug</td>\n",
       "      <td>Grass</td>\n",
       "      <td>424</td>\n",
       "      <td>60</td>\n",
       "      <td>59</td>\n",
       "      <td>85</td>\n",
       "      <td>79</td>\n",
       "      <td>105</td>\n",
       "      <td>36</td>\n",
       "      <td>4</td>\n",
       "    </tr>\n",
       "    <tr>\n",
       "      <th>413</th>\n",
       "      <td>Wormadam</td>\n",
       "      <td>Sandy Cloak</td>\n",
       "      <td>Bug</td>\n",
       "      <td>Ground</td>\n",
       "      <td>424</td>\n",
       "      <td>60</td>\n",
       "      <td>79</td>\n",
       "      <td>105</td>\n",
       "      <td>59</td>\n",
       "      <td>85</td>\n",
       "      <td>36</td>\n",
       "      <td>4</td>\n",
       "    </tr>\n",
       "    <tr>\n",
       "      <th>413</th>\n",
       "      <td>Wormadam</td>\n",
       "      <td>Trash Cloak</td>\n",
       "      <td>Bug</td>\n",
       "      <td>Steel</td>\n",
       "      <td>424</td>\n",
       "      <td>60</td>\n",
       "      <td>69</td>\n",
       "      <td>95</td>\n",
       "      <td>69</td>\n",
       "      <td>95</td>\n",
       "      <td>36</td>\n",
       "      <td>4</td>\n",
       "    </tr>\n",
       "  </tbody>\n",
       "</table>\n",
       "</div>"
      ],
      "text/plain": [
       "         Name         Form Type1   Type2  Total  HP  Attack  Defense  Sp. Atk  \\\n",
       "ID                                                                              \n",
       "413  Wormadam  Plant Cloak   Bug   Grass    424  60      59       85       79   \n",
       "413  Wormadam  Sandy Cloak   Bug  Ground    424  60      79      105       59   \n",
       "413  Wormadam  Trash Cloak   Bug   Steel    424  60      69       95       69   \n",
       "\n",
       "     Sp. Def  Speed  Generation  \n",
       "ID                               \n",
       "413      105     36           4  \n",
       "413       85     36           4  \n",
       "413       95     36           4  "
      ]
     },
     "execution_count": 73,
     "metadata": {},
     "output_type": "execute_result"
    }
   ],
   "source": [
    "# o simplemente tirarlos \n",
    "# Nota si en 'fillna' o 'dropna' añades 'inplace=True'como argumento se modificara tu dataframe original\n",
    "data.loc[413:415].dropna()"
   ]
  },
  {
   "cell_type": "markdown",
   "id": "3f02a6b2",
   "metadata": {},
   "source": [
    "# Guardado y generacion de dataframes"
   ]
  },
  {
   "cell_type": "code",
   "execution_count": 75,
   "id": "ec7b426d",
   "metadata": {},
   "outputs": [],
   "source": [
    "# Como recordaras puedes guardar tu dataframe como un archivo de la manera que quieras\n",
    "# Con un separador diferente \n",
    "data.head(10).to_csv(\"Data/Pokemon_sub_10.tsv\",sep=\"\\t\")\n",
    "# Rellenando los nan\n",
    "data.head(10).to_csv(\"Data/Pokemon_sub_10_fillnan.csv\",na_rep=\" \")\n",
    "# Quitando el indice\n",
    "data.head(10).to_csv(\"Data/Pokemon_sub_10_noidx.csv\",index=False)"
   ]
  },
  {
   "cell_type": "code",
   "execution_count": 78,
   "id": "2d662c28",
   "metadata": {},
   "outputs": [],
   "source": [
    "# y cargalos segun como este configurado\n",
    "data_tsv = pd.read_csv(\"Data/Pokemon_sub_10.tsv\",sep=\"\\t\",index_col=0)\n",
    "data_nan = pd.read_csv(\"Data/Pokemon_sub_10_fillnan.csv\",index_col=0,na_values=\" \")\n",
    "data_noidx = pd.read_csv(\"Data/Pokemon_sub_10_noidx.csv\")"
   ]
  },
  {
   "cell_type": "code",
   "execution_count": null,
   "id": "2bae7ed0",
   "metadata": {},
   "outputs": [
    {
     "name": "stdout",
     "output_type": "stream",
     "text": [
      "Columnas:<class 'pandas.core.series.Series'>\n",
      "Filas:<class 'pandas.core.series.Series'>\n"
     ]
    }
   ],
   "source": [
    "# Cabe resaltar que los dataframes estan compuestos por otras estructuras de pandas como lo son las series equivaliendo a las columnas o filas \n",
    "print(f\"Columnas:{type(data.Name)}\")\n",
    "print(f\"Filas:{type(data.loc[1])}\")\n"
   ]
  },
  {
   "cell_type": "code",
   "execution_count": 112,
   "id": "c33b00cb",
   "metadata": {},
   "outputs": [],
   "source": [
    "# Por lo mismo puedes descomponer un dataframe en sus series\n",
    "Name = data.Name\n",
    "Type1 = data.Type1"
   ]
  },
  {
   "cell_type": "code",
   "execution_count": 126,
   "id": "039fd1ad",
   "metadata": {},
   "outputs": [
    {
     "data": {
      "text/html": [
       "<div>\n",
       "<style scoped>\n",
       "    .dataframe tbody tr th:only-of-type {\n",
       "        vertical-align: middle;\n",
       "    }\n",
       "\n",
       "    .dataframe tbody tr th {\n",
       "        vertical-align: top;\n",
       "    }\n",
       "\n",
       "    .dataframe thead th {\n",
       "        text-align: right;\n",
       "    }\n",
       "</style>\n",
       "<table border=\"1\" class=\"dataframe\">\n",
       "  <thead>\n",
       "    <tr style=\"text-align: right;\">\n",
       "      <th></th>\n",
       "      <th>Name</th>\n",
       "      <th>Type1</th>\n",
       "    </tr>\n",
       "    <tr>\n",
       "      <th>ID</th>\n",
       "      <th></th>\n",
       "      <th></th>\n",
       "    </tr>\n",
       "  </thead>\n",
       "  <tbody>\n",
       "    <tr>\n",
       "      <th>1</th>\n",
       "      <td>Bulbasaur</td>\n",
       "      <td>Grass</td>\n",
       "    </tr>\n",
       "    <tr>\n",
       "      <th>2</th>\n",
       "      <td>Ivysaur</td>\n",
       "      <td>Grass</td>\n",
       "    </tr>\n",
       "  </tbody>\n",
       "</table>\n",
       "</div>"
      ],
      "text/plain": [
       "         Name  Type1\n",
       "ID                  \n",
       "1   Bulbasaur  Grass\n",
       "2     Ivysaur  Grass"
      ]
     },
     "execution_count": 126,
     "metadata": {},
     "output_type": "execute_result"
    }
   ],
   "source": [
    "# Y construir un datafram a partir de sus series\n",
    "series_df = pd.concat([Name,Type1],axis=1)\n",
    "series_df.head(2)"
   ]
  },
  {
   "cell_type": "code",
   "execution_count": null,
   "id": "0e6e10ca",
   "metadata": {},
   "outputs": [],
   "source": [
    "# Pero cuando quieres almacenar informacion que vas generando, te daras cuenta que usar dataframes es computacionlamente pesado\n",
    "# Por lo mismo pandas te permite generar dataframes a partir de otras estructuras mas ligeras como los diccionarios\n",
    "\n",
    "# Para ello cada key tiene que estas asociado a una lista de la misma longitud a las demas\n",
    "pokemon_dict_list = {\n",
    "    \"ID\": [1, 2, 3, 4, 5, 6, 7, 8, 9, 10],\n",
    "    \"Name\": [\"Bulbasaur\", \"Ivysaur\", \"Venusaur\", \"Charmander\", \"Charmeleon\", \"Charizard\", \"Squirtle\", \"Wartortle\", \"Blastoise\", \"Caterpie\"],\n",
    "    \"Form\": [None, None, None, None, None, None, None, None, None, None],\n",
    "    \"Type1\": [\"Grass\", \"Grass\", \"Grass\", \"Fire\", \"Fire\", \"Fire\", \"Water\", \"Water\", \"Water\", \"Bug\"],\n",
    "    \"Type2\": [\"Poison\", \"Poison\", \"Poison\", None, None, \"Flying\", None, None, None, None],\n",
    "    \"Total\": [318, 405, 525, 309, 405, 534, 314, 405, 530, 195],\n",
    "    \"HP\": [45, 60, 80, 39, 58, 78, 44, 59, 79, 45],\n",
    "    \"Attack\": [49, 62, 82, 52, 64, 84, 48, 63, 83, 30],\n",
    "    \"Defense\": [49, 63, 83, 43, 58, 78, 65, 80, 100, 35],\n",
    "    \"Sp. Atk\": [65, 80, 100, 60, 80, 109, 50, 65, 85, 20],\n",
    "    \"Sp. Def\": [65, 80, 100, 50, 65, 85, 64, 80, 105, 20],\n",
    "    \"Speed\": [45, 60, 80, 65, 80, 100, 43, 58, 78, 45],\n",
    "    \"Generation\": [1, 1, 1, 1, 1, 1, 1, 1, 1, 1]\n",
    "}\n",
    "\n",
    "dict_data = pd.DataFrame.from_dict(pokemon_dict_list)\n",
    "dict_data.set_index(\"ID\",inplace=True)\n"
   ]
  },
  {
   "cell_type": "code",
   "execution_count": null,
   "id": "f0372698",
   "metadata": {},
   "outputs": [],
   "source": [
    "# Tambien puedes crearlo con un diccionario de diccionarios, con la condicion que todos los diccionarios deben tener las mismas keys\n",
    "pokemon_dict_dict = {\n",
    "    0: {\"ID\": 1, \"Name\": \"Bulbasaur\", \"Form\": None, \"Type1\": \"Grass\", \"Type2\": \"Poison\", \"Total\": 318, \"HP\": 45, \"Attack\": 49, \"Defense\": 49, \"Sp. Atk\": 65, \"Sp. Def\": 65, \"Speed\": 45, \"Generation\": 1},\n",
    "    1: {\"ID\": 2, \"Name\": \"Ivysaur\", \"Form\": None, \"Type1\": \"Grass\", \"Type2\": \"Poison\", \"Total\": 405, \"HP\": 60, \"Attack\": 62, \"Defense\": 63, \"Sp. Atk\": 80, \"Sp. Def\": 80, \"Speed\": 60, \"Generation\": 1},\n",
    "    2: {\"ID\": 3, \"Name\": \"Venusaur\", \"Form\": None, \"Type1\": \"Grass\", \"Type2\": \"Poison\", \"Total\": 525, \"HP\": 80, \"Attack\": 82, \"Defense\": 83, \"Sp. Atk\": 100, \"Sp. Def\": 100, \"Speed\": 80, \"Generation\": 1},\n",
    "    3: {\"ID\": 4, \"Name\": \"Charmander\", \"Form\": None, \"Type1\": \"Fire\", \"Type2\": None, \"Total\": 309, \"HP\": 39, \"Attack\": 52, \"Defense\": 43, \"Sp. Atk\": 60, \"Sp. Def\": 50, \"Speed\": 65, \"Generation\": 1},\n",
    "    4: {\"ID\": 5, \"Name\": \"Charmeleon\", \"Form\": None, \"Type1\": \"Fire\", \"Type2\": None, \"Total\": 405, \"HP\": 58, \"Attack\": 64, \"Defense\": 58, \"Sp. Atk\": 80, \"Sp. Def\": 65, \"Speed\": 80, \"Generation\": 1},\n",
    "    5: {\"ID\": 6, \"Name\": \"Charizard\", \"Form\": None, \"Type1\": \"Fire\", \"Type2\": \"Flying\", \"Total\": 534, \"HP\": 78, \"Attack\": 84, \"Defense\": 78, \"Sp. Atk\": 109, \"Sp. Def\": 85, \"Speed\": 100, \"Generation\": 1},\n",
    "    6: {\"ID\": 7, \"Name\": \"Squirtle\", \"Form\": None, \"Type1\": \"Water\", \"Type2\": None, \"Total\": 314, \"HP\": 44, \"Attack\": 48, \"Defense\": 65, \"Sp. Atk\": 50, \"Sp. Def\": 64, \"Speed\": 43, \"Generation\": 1},\n",
    "    7: {\"ID\": 8, \"Name\": \"Wartortle\", \"Form\": None, \"Type1\": \"Water\", \"Type2\": None, \"Total\": 405, \"HP\": 59, \"Attack\": 63, \"Defense\": 80, \"Sp. Atk\": 65, \"Sp. Def\": 80, \"Speed\": 58, \"Generation\": 1},\n",
    "    8: {\"ID\": 9, \"Name\": \"Blastoise\", \"Form\": None, \"Type1\": \"Water\", \"Type2\": None, \"Total\": 530, \"HP\": 79, \"Attack\": 83, \"Defense\": 100, \"Sp. Atk\": 85, \"Sp. Def\": 105, \"Speed\": 78, \"Generation\": 1},\n",
    "    9: {\"ID\": 10, \"Name\": \"Caterpie\", \"Form\": None, \"Type1\": \"Bug\", \"Type2\": None, \"Total\": 195, \"HP\": 45, \"Attack\": 30, \"Defense\": 35, \"Sp. Atk\": 20, \"Sp. Def\": 20, \"Speed\": 45, \"Generation\": 1},\n",
    "}\n",
    "\n",
    "dict_data = pd.DataFrame.from_dict(pokemon_dict_dict,orient=\"index\")\n",
    "dict_data.set_index(\"ID\",inplace=True)\n"
   ]
  },
  {
   "cell_type": "code",
   "execution_count": null,
   "id": "165af852",
   "metadata": {},
   "outputs": [],
   "source": [
    "# Tambien puedes construir un diccionario a partir del dataframe con ese formato \n",
    "pokemon_dict_dict = dict_data.to_dict(\"index\")\n",
    "pokemon_dict_list = dict_data.to_dict(\"split\")\n"
   ]
  },
  {
   "cell_type": "markdown",
   "id": "767dafa8",
   "metadata": {},
   "source": [
    "# Visualizacion"
   ]
  },
  {
   "cell_type": "markdown",
   "id": "d211ee94",
   "metadata": {},
   "source": [
    "Los dataframes son herramientas muy útiles que nos permiten explorar diferentes aspectos de nuestros datos, como ya vimos anteriormente. Sin embargo, si deseas generar un reporte más claro y visual, existen métodos más eficaces, como la representación gráfica de la información :bar_chart:\n",
    "\n",
    "Cosa que a traves de los dataframes es bastente comodo:\n"
   ]
  },
  {
   "cell_type": "code",
   "execution_count": null,
   "id": "5391715b",
   "metadata": {},
   "outputs": [
    {
     "data": {
      "image/png": "[encoded data removed]",
      "text/plain": [
       "<Figure size 800x800 with 1 Axes>"
      ]
     },
     "metadata": {},
     "output_type": "display_data"
    }
   ],
   "source": [
    "import matplotlib.pyplot as plt \n",
    "\n",
    "# Podemos hacer graficas simples como las de pie para representar la porcion que representan dentro de un conjunto de datos\n",
    "\n",
    "plt.figure(figsize=(8,8))\n",
    "# Los dataframes te permiten hacer plots sencillos\n",
    "data.Type1.value_counts().plot.pie()\n",
    "plt.ylabel('')\n",
    "plt.title('Distrubucion de tipos pokemons')\n",
    "\n",
    "plt.show()\n"
   ]
  },
  {
   "cell_type": "code",
   "execution_count": 10,
   "id": "c07cfce5",
   "metadata": {},
   "outputs": [
    {
     "data": {
      "image/png": "[encoded data removed]",
      "text/plain": [
       "<Figure size 800x800 with 1 Axes>"
      ]
     },
     "metadata": {},
     "output_type": "display_data"
    }
   ],
   "source": [
    "import matplotlib.pyplot as plt \n",
    "\n",
    "# Puedes graficar incluso los valores NAN\n",
    "plt.figure(figsize=(8,8))\n",
    "data.Type2.value_counts(dropna=False).plot.pie()\n",
    "plt.ylabel('')\n",
    "plt.title('Distrubucion de tipos pokemons')\n",
    "\n",
    "plt.show()"
   ]
  },
  {
   "cell_type": "code",
   "execution_count": 19,
   "id": "2bb0e284",
   "metadata": {},
   "outputs": [
    {
     "data": {
      "image/png": "[encoded data removed]",
      "text/plain": [
       "<Figure size 640x480 with 1 Axes>"
      ]
     },
     "metadata": {},
     "output_type": "display_data"
    }
   ],
   "source": [
    "# Para valores cuantitativos graficas como los histogramas con utiles para ver su distribucion\n",
    "data.Attack.plot.hist(bins=10, edgecolor='black', color='skyblue')\n",
    "\n",
    "plt.title('Histograma de estadisticas de ataques')\n",
    "plt.xlabel('Ataque')\n",
    "plt.ylabel('Frecuencia')\n",
    "plt.grid(axis='y', linestyle='--', alpha=0.7)\n",
    "plt.tight_layout()\n",
    "plt.show()\n"
   ]
  },
  {
   "cell_type": "code",
   "execution_count": null,
   "id": "78b84285",
   "metadata": {},
   "outputs": [
    {
     "data": {
      "image/png": "[encoded data removed]",
      "text/plain": [
       "<Figure size 800x500 with 1 Axes>"
      ]
     },
     "metadata": {},
     "output_type": "display_data"
    }
   ],
   "source": [
    "# Tambien puedes la distribucion como un boxplot\n",
    "plt.figure(figsize=(8,5))\n",
    "data.boxplot(column=[\"Attack\"])\n",
    "plt.title('Distribucion de estadisticas de ataque')\n",
    "plt.ylabel('Valor')\n",
    "plt.xticks(rotation=45)\n",
    "plt.tight_layout()\n",
    "plt.show()\n"
   ]
  },
  {
   "cell_type": "code",
   "execution_count": 17,
   "id": "7533f7d9",
   "metadata": {},
   "outputs": [
    {
     "data": {
      "image/png": "[encoded data removed]",
      "text/plain": [
       "<Figure size 800x500 with 1 Axes>"
      ]
     },
     "metadata": {},
     "output_type": "display_data"
    }
   ],
   "source": [
    "# También puedes ver una gráfica general de los valores nulos en tu DataFrame\n",
    "\n",
    "plt.figure(figsize=(8,5))\n",
    "# Conocer los valores nulos en tu dataframe puede ser muy util\n",
    "data.isna().sum()[data.isna().sum()>0].plot(kind='bar', color='salmon', edgecolor='black')\n",
    "\n",
    "plt.title('NANs por columnas')\n",
    "plt.xlabel('Columnas')\n",
    "plt.ylabel('Cantidad de NaNs')\n",
    "plt.xticks(rotation=45, ha='right')\n",
    "plt.grid(axis='y', linestyle='--', alpha=0.7)\n",
    "plt.tight_layout()\n",
    "plt.show()"
   ]
  },
  {
   "cell_type": "code",
   "execution_count": 23,
   "id": "e5df0793",
   "metadata": {},
   "outputs": [
    {
     "data": {
      "text/plain": [
       "Index(['Name', 'Form', 'Type1', 'Type2', 'Total', 'HP', 'Attack', 'Defense',\n",
       "       'Sp. Atk', 'Sp. Def', 'Speed', 'Generation'],\n",
       "      dtype='object')"
      ]
     },
     "execution_count": 23,
     "metadata": {},
     "output_type": "execute_result"
    }
   ],
   "source": [
    "data.columns"
   ]
  },
  {
   "cell_type": "code",
   "execution_count": null,
   "id": "c0151f9c",
   "metadata": {},
   "outputs": [
    {
     "data": {
      "image/png": "[encoded data removed]",
      "text/plain": [
       "<Figure size 800x500 with 1 Axes>"
      ]
     },
     "metadata": {},
     "output_type": "display_data"
    }
   ],
   "source": [
    "import matplotlib.patches as mpatches\n",
    "\n",
    "# Puedes aprovechar los distintos valores en las columnas para representar mas de una categoria\n",
    "\n",
    "colores = {1:\"red\",2:\"blue\",3:\"green\",4:\"darkblue\",5:\"skyblue\",6:\"#Efb810\",7:\"orange\",8:\"yellow\",9:\"purple\"}\n",
    "\n",
    "# Puedes hacer subsets de tus datos para graficar ciertas partes\n",
    "data_grafica = data.loc[data.Type1==\"Water\",\"Generation\"].value_counts().sort_index()\n",
    "\n",
    "# Tambien puedes añadir una nueva columnas con los colores\n",
    "orden_colores = [colores[reg] for reg in data_grafica.index]\n",
    "\n",
    "plt.figure(figsize=(8,5))\n",
    "plt.bar(data_grafica.index, data_grafica.values, color=orden_colores, edgecolor='black')\n",
    "\n",
    "plt.title('Pokémon tipo Agua por región')\n",
    "plt.xlabel('Región')\n",
    "plt.ylabel('Cantidad')\n",
    "# Asi quitamos los datos del label x\n",
    "plt.xticks([], [])\n",
    "plt.grid(axis='y', linestyle='--', alpha=0.6)\n",
    "leyenda = [mpatches.Patch(color=colores[reg], label=f'Región {reg}')\n",
    "           for reg in data_grafica.index]\n",
    "plt.legend(handles=leyenda, title='Regiones', loc='upper right')\n",
    "\n",
    "\n",
    "plt.tight_layout()\n",
    "plt.show()\n"
   ]
  },
  {
   "cell_type": "markdown",
   "id": "5e7acf0f",
   "metadata": {},
   "source": [
    "# Actividad :racehorse: :fire: :fire:"
   ]
  },
  {
   "cell_type": "markdown",
   "id": "1289d5b5",
   "metadata": {},
   "source": [
    "Excelente espero que este pequeño notebook sea de utildad para ti :smile:. Para estar seguro que lo que aqui se explica se entendio lo suficiente te voy a pedir que hagas una pequeña actividad para saber que todo quedo claro igual cualquier problema puedes decirme 🦞.\n",
    "\n",
    "Entonces dado lo anterior te voy a pedir que:\n",
    "Grafiques en un mismo plot varios violins plot con las distribuciones de 'Defense' de cada 'Generation', para los Type1: \"Fire\" y \"Ice\". Esto con las siguiente caracteristicas\n",
    "- Solo seleccionaras aquellos pokemon con un solo tipo, es decir que tengan un valor en Type1 pero no en Type2\n",
    "- Cada violin debe estar coloreado segun el tipo \n",
    "- Genera una nueva columna con el nombre de la region para renombrarlas de la siguiente manera:\n",
    "`{1:\"Kanto\",2:\"Johto\",3:\"Hoenn\",4:\"Sinnoh\",5:\"Teselia\",6:\"Kalos\",7:\"Alola\",8:\"Galar\",9:\"Paldea\"}`\n",
    "- En el axis y o x (a tu gusto) debe estar la region y en el otro axis el valor"
   ]
  }
 ],
 "metadata": {
  "kernelspec": {
   "display_name": "muDAS",
   "language": "python",
   "name": "python3"
  },
  "language_info": {
   "codemirror_mode": {
    "name": "ipython",
    "version": 3
   },
   "file_extension": ".py",
   "mimetype": "text/x-python",
   "name": "python",
   "nbconvert_exporter": "python",
   "pygments_lexer": "ipython3",
   "version": "3.9.18"
  }
 },
 "nbformat": 4,
 "nbformat_minor": 5
}
