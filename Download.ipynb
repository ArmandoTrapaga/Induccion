{
 "cells": [
  {
   "cell_type": "markdown",
   "id": "b862a033",
   "metadata": {},
   "source": [
    "# Introduccion"
   ]
  },
  {
   "cell_type": "markdown",
   "id": "c4ff2a29",
   "metadata": {},
   "source": [
    "Bienvenido al modulo dos muchacho espero que no hayas tenido problemas con el modulo anterior :smile:. Pero tranquilo este modulo es bastante mas simple que el anterior y es mas complentario que otra cosa.\n",
    "\n",
    "El proposito del modulo en cuestion como su nombre lo indica es el de la descarga de los datos suplementarios de los samples, que como recordaras es de nuestro interes debido a que si bien GEOparse te permite acceder a la matriz de conteos almacenada en los archivos SOFT pero estos suelen estar procesados de alguna manera :cat:"
   ]
  },
  {
   "cell_type": "markdown",
   "id": "521f1999",
   "metadata": {},
   "source": [
    "# Codigo"
   ]
  },
  {
   "cell_type": "code",
   "execution_count": null,
   "id": "c8fc7fe2",
   "metadata": {},
   "outputs": [],
   "source": [
    "# Carguemos las librerias\n",
    "import GEOparse as geo\n",
    "import re\n",
    "import os\n",
    "import ftplib"
   ]
  },
  {
   "cell_type": "code",
   "execution_count": null,
   "id": "6de71e5a",
   "metadata": {},
   "outputs": [
    {
     "name": "stderr",
     "output_type": "stream",
     "text": [
      "16-Jun-2025 20:32:23 DEBUG utils - Directory Results/Mod1 already exists. Skipping.\n",
      "16-Jun-2025 20:32:23 INFO GEOparse - File already exist: using local version.\n",
      "16-Jun-2025 20:32:23 INFO GEOparse - Parsing Results/Mod1/GSE206796_family.soft.gz: \n",
      "16-Jun-2025 20:32:23 DEBUG GEOparse - DATABASE: GeoMiame\n",
      "16-Jun-2025 20:32:23 DEBUG GEOparse - SERIES: GSE206796\n",
      "16-Jun-2025 20:32:23 DEBUG GEOparse - PLATFORM: GPL32387\n",
      "16-Jun-2025 20:32:23 DEBUG GEOparse - SAMPLE: GSM6262951\n",
      "16-Jun-2025 20:32:23 DEBUG GEOparse - SAMPLE: GSM6262952\n",
      "16-Jun-2025 20:32:23 DEBUG GEOparse - SAMPLE: GSM6262953\n",
      "16-Jun-2025 20:32:23 DEBUG utils - Directory /export/space3/users/aggonzal/Induccion/Results/Mod1/Supp_GSM6262951_ChrS-Ala245fs_vs_WT_1 already exists. Skipping.\n",
      "16-Jun-2025 20:32:23 INFO downloader - File /export/space3/users/aggonzal/Induccion/Results/Mod1/Supp_GSM6262951_ChrS-Ala245fs_vs_WT_1/GSM6262951_ChrS-Ala245fs_vs_WT_1.gpr.gz already exist. Use force=True if you would like to overwrite it.\n",
      "16-Jun-2025 20:32:23 ERROR GEOTypes - Cannot download GSM6262951 SRA file (argument of type 'NoneType' is not iterable)\n"
     ]
    }
   ],
   "source": [
    "# Podemos descargarlo por GEOparse\n",
    "gse_download = geo.get_GEO(geo=re.sub(\"^20*\",\"GSE\",\"200206796\"),destdir=\"Results\")\n",
    "gsm_supp = gse_download.gsms[\"GSM6262951\"].download_supplementary_files(directory=\"Results\")"
   ]
  },
  {
   "cell_type": "code",
   "execution_count": null,
   "id": "a4a916c7",
   "metadata": {},
   "outputs": [],
   "source": [
    "# Pero no siempre funciona, en ser el caso puedes hacerlo por ftp\n",
    "ftpPath = gse_download.gsms[\"GSM6262951\"].metadata[\"supplementary_file\"][0]\n",
    "_,_,host,*path = ftpPath.split(\"/\")\n",
    "path = os.path.join(*path)\n",
    "\n",
    "# Indicamos el sitio al que queremos acceder.\n",
    "print(f\"Conectandose a {host}...\")\n",
    "ftp = ftplib.FTP(host)\n",
    "ftp.login()\n",
    "\n",
    "# Descargamos el archivo\n",
    "fileName = os.path.basename(path)\n",
    "print(f\"Descargando {fileName}...\")\n",
    "with open(f\"Results/{fileName}\", \"wb\") as f:\n",
    "  ftp.retrbinary(f\"RETR {path}\", f.write)\n",
    "\n",
    "print(\"Descarga completada!\")\n",
    "\n",
    "# Cerramos la conexión ftp\n",
    "ftp.quit()\n",
    "\n",
    "# Ahora tenemos el archivo descargado\n",
    "print(f'Archivos en el directorio Results/ {os.listdir(\"Results/\")}')\n"
   ]
  },
  {
   "cell_type": "markdown",
   "id": "abc8e645",
   "metadata": {},
   "source": [
    "# Actividad :horse: :fire:"
   ]
  },
  {
   "cell_type": "markdown",
   "id": "4635b69c",
   "metadata": {},
   "source": [
    "Como notaste este modulo es bastante corto y directo al grano, entonces tambien la actividad sera bastante sencilla :smile:. Para ello necesitaras los datos que generaste en el modulo anterior, para hacer lo siguiente:\n",
    "\n",
    "Para aquellos gsms que tuvieran solo un link a un archivo suplementario quiero que descargues estos archivos y agregues la ruta al suplementario en tu dataframe. No obstente, solo quiero que descargues los supplementarios que cumplan estas condiciones extras:\n",
    "- Descarga solo los suplementarios para los GSMs asociados a GPLs que tengan como manufacturadores: \"Nimblegen\", \"Agilent\", \"Affymetrix\"\n",
    "- Descarga los suplementarios cuyas extensiones coincidan con sus manufacturadores, los cuales son:\n",
    "    - Nimblegen: \".xys\", \".pair\", \".ndf\"\n",
    "    - Agilent: \".txt\"\n",
    "    - Affymetrix: \".cel\", \".probe_tab\", \"probe_fasta\""
   ]
  },
  {
   "cell_type": "markdown",
   "id": "28cc519a",
   "metadata": {},
   "source": []
  }
 ],
 "metadata": {
  "kernelspec": {
   "display_name": "muDAS",
   "language": "python",
   "name": "python3"
  },
  "language_info": {
   "codemirror_mode": {
    "name": "ipython",
    "version": 3
   },
   "file_extension": ".py",
   "mimetype": "text/x-python",
   "name": "python",
   "nbconvert_exporter": "python",
   "pygments_lexer": "ipython3",
   "version": "3.9.18"
  }
 },
 "nbformat": 4,
 "nbformat_minor": 5
}
